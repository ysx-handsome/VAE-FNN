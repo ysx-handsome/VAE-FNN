{
 "cells": [
  {
   "cell_type": "code",
   "execution_count": 1,
   "metadata": {},
   "outputs": [],
   "source": [
    "import pandas as pd\n",
    "import numpy as np\n",
    "import random"
   ]
  },
  {
   "cell_type": "code",
   "execution_count": 2,
   "metadata": {},
   "outputs": [],
   "source": [
    "dim=2\n",
    "n=1000\n",
    "sigma_y=0.2"
   ]
  },
  {
   "cell_type": "code",
   "execution_count": 3,
   "metadata": {},
   "outputs": [],
   "source": [
    "def x_to_y(x):\n",
    "    return np.sin(16*x[:,0])"
   ]
  },
  {
   "cell_type": "code",
   "execution_count": 4,
   "metadata": {},
   "outputs": [],
   "source": [
    "def generate_data(n,dim,x_to_y,sigma_y):\n",
    "    x = np.random.randn(n,dim)\n",
    "    w = x.copy()\n",
    "    w[:,0] = w[:,0]+np.random.laplace(size=n)\n",
    "    y=x_to_y(x)\n",
    "    yy=y+np.random.normal(size=n)*sigma_y\n",
    "    return x,w,y,yy"
   ]
  },
  {
   "cell_type": "code",
   "execution_count": 5,
   "metadata": {},
   "outputs": [],
   "source": [
    "x,w,y,yy=generate_data(n,dim,x_to_y,sigma_y)"
   ]
  },
  {
   "cell_type": "code",
   "execution_count": 6,
   "metadata": {},
   "outputs": [],
   "source": [
    "x1=x[:,0]\n",
    "x2=x[:,1]\n"
   ]
  },
  {
   "cell_type": "code",
   "execution_count": 7,
   "metadata": {},
   "outputs": [
    {
     "data": {
      "text/html": [
       "<div>\n",
       "<style scoped>\n",
       "    .dataframe tbody tr th:only-of-type {\n",
       "        vertical-align: middle;\n",
       "    }\n",
       "\n",
       "    .dataframe tbody tr th {\n",
       "        vertical-align: top;\n",
       "    }\n",
       "\n",
       "    .dataframe thead th {\n",
       "        text-align: right;\n",
       "    }\n",
       "</style>\n",
       "<table border=\"1\" class=\"dataframe\">\n",
       "  <thead>\n",
       "    <tr style=\"text-align: right;\">\n",
       "      <th></th>\n",
       "      <th>x1</th>\n",
       "      <th>x2</th>\n",
       "      <th>w1</th>\n",
       "      <th>w2</th>\n",
       "      <th>y</th>\n",
       "      <th>actual_y</th>\n",
       "    </tr>\n",
       "  </thead>\n",
       "  <tbody>\n",
       "    <tr>\n",
       "      <th>0</th>\n",
       "      <td>-0.679571</td>\n",
       "      <td>0.411601</td>\n",
       "      <td>4.138744</td>\n",
       "      <td>0.411601</td>\n",
       "      <td>0.893177</td>\n",
       "      <td>0.992513</td>\n",
       "    </tr>\n",
       "    <tr>\n",
       "      <th>1</th>\n",
       "      <td>0.800995</td>\n",
       "      <td>1.149262</td>\n",
       "      <td>2.596147</td>\n",
       "      <td>1.149262</td>\n",
       "      <td>0.274279</td>\n",
       "      <td>0.246966</td>\n",
       "    </tr>\n",
       "    <tr>\n",
       "      <th>2</th>\n",
       "      <td>-2.248309</td>\n",
       "      <td>0.298548</td>\n",
       "      <td>-1.717427</td>\n",
       "      <td>0.298548</td>\n",
       "      <td>0.885607</td>\n",
       "      <td>0.987953</td>\n",
       "    </tr>\n",
       "    <tr>\n",
       "      <th>3</th>\n",
       "      <td>0.914092</td>\n",
       "      <td>0.078746</td>\n",
       "      <td>-0.043196</td>\n",
       "      <td>0.078746</td>\n",
       "      <td>0.830517</td>\n",
       "      <td>0.883127</td>\n",
       "    </tr>\n",
       "    <tr>\n",
       "      <th>4</th>\n",
       "      <td>-1.276116</td>\n",
       "      <td>1.584225</td>\n",
       "      <td>-0.681987</td>\n",
       "      <td>1.584225</td>\n",
       "      <td>-1.305152</td>\n",
       "      <td>-0.999997</td>\n",
       "    </tr>\n",
       "  </tbody>\n",
       "</table>\n",
       "</div>"
      ],
      "text/plain": [
       "         x1        x2        w1        w2         y  actual_y\n",
       "0 -0.679571  0.411601  4.138744  0.411601  0.893177  0.992513\n",
       "1  0.800995  1.149262  2.596147  1.149262  0.274279  0.246966\n",
       "2 -2.248309  0.298548 -1.717427  0.298548  0.885607  0.987953\n",
       "3  0.914092  0.078746 -0.043196  0.078746  0.830517  0.883127\n",
       "4 -1.276116  1.584225 -0.681987  1.584225 -1.305152 -0.999997"
      ]
     },
     "execution_count": 7,
     "metadata": {},
     "output_type": "execute_result"
    }
   ],
   "source": [
    "simu.head()"
   ]
  },
  {
   "cell_type": "code",
   "execution_count": 8,
   "metadata": {},
   "outputs": [],
   "source": [
    "simu.to_excel('simu_test.xlsx',index=False)"
   ]
  },
  {
   "cell_type": "code",
   "execution_count": null,
   "metadata": {},
   "outputs": [],
   "source": []
  }
 ],
 "metadata": {
  "kernelspec": {
   "display_name": "Python 3 (ipykernel)",
   "language": "python",
   "name": "python3"
  },
  "language_info": {
   "codemirror_mode": {
    "name": "ipython",
    "version": 3
   },
   "file_extension": ".py",
   "mimetype": "text/x-python",
   "name": "python",
   "nbconvert_exporter": "python",
   "pygments_lexer": "ipython3",
   "version": "3.9.7"
  }
 },
 "nbformat": 4,
 "nbformat_minor": 4
}
